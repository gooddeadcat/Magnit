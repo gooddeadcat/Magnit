{
 "cells": [
  {
   "cell_type": "code",
   "execution_count": null,
   "id": "ec9f8af1-f94e-4955-a420-39aa18f37806",
   "metadata": {
    "colab": {
     "base_uri": "https://localhost:8080/"
    },
    "executionInfo": {
     "elapsed": 79191,
     "status": "ok",
     "timestamp": 1683625344525,
     "user": {
      "displayName": "Klim Chernov",
      "userId": "01467194743770448933"
     },
     "user_tz": -180
    },
    "id": "ec9f8af1-f94e-4955-a420-39aa18f37806",
    "outputId": "164abbbf-865c-4fc0-e663-206d2720d04e"
   },
   "outputs": [
    {
     "name": "stdout",
     "output_type": "stream",
     "text": [
      "Looking in indexes: https://pypi.org/simple, https://us-python.pkg.dev/colab-wheels/public/simple/\n",
      "Collecting scikit-surprise==1.1.3\n",
      "  Downloading scikit-surprise-1.1.3.tar.gz (771 kB)\n",
      "\u001b[2K     \u001b[90m━━━━━━━━━━━━━━━━━━━━━━━━━━━━━━━━━━━━━━\u001b[0m \u001b[32m772.0/772.0 kB\u001b[0m \u001b[31m10.4 MB/s\u001b[0m eta \u001b[36m0:00:00\u001b[0m\n",
      "\u001b[?25h  Preparing metadata (setup.py) ... \u001b[?25l\u001b[?25hdone\n",
      "Requirement already satisfied: joblib>=1.0.0 in /usr/local/lib/python3.10/dist-packages (from scikit-surprise==1.1.3) (1.2.0)\n",
      "Requirement already satisfied: numpy>=1.17.3 in /usr/local/lib/python3.10/dist-packages (from scikit-surprise==1.1.3) (1.22.4)\n",
      "Requirement already satisfied: scipy>=1.3.2 in /usr/local/lib/python3.10/dist-packages (from scikit-surprise==1.1.3) (1.10.1)\n",
      "Building wheels for collected packages: scikit-surprise\n",
      "  Building wheel for scikit-surprise (setup.py) ... \u001b[?25l\u001b[?25hdone\n",
      "  Created wheel for scikit-surprise: filename=scikit_surprise-1.1.3-cp310-cp310-linux_x86_64.whl size=3095428 sha256=8e28c18e7a263146cc4a8af68e105c9ecd3f972ef681680cb3769f904508e57c\n",
      "  Stored in directory: /root/.cache/pip/wheels/a5/ca/a8/4e28def53797fdc4363ca4af740db15a9c2f1595ebc51fb445\n",
      "Successfully built scikit-surprise\n",
      "Installing collected packages: scikit-surprise\n",
      "Successfully installed scikit-surprise-1.1.3\n",
      "Looking in indexes: https://pypi.org/simple, https://us-python.pkg.dev/colab-wheels/public/simple/\n",
      "Requirement already satisfied: xlrd==2.0.1 in /usr/local/lib/python3.10/dist-packages (2.0.1)\n"
     ]
    }
   ],
   "source": [
    "!pip install \"scikit-surprise==1.1.3\"\n",
    "!pip install \"xlrd==2.0.1\""
   ]
  },
  {
   "cell_type": "markdown",
   "id": "f4fc3daa-2632-4ad6-b904-752bd2308fc8",
   "metadata": {
    "id": "f4fc3daa-2632-4ad6-b904-752bd2308fc8"
   },
   "source": [
    "### Import"
   ]
  },
  {
   "cell_type": "code",
   "execution_count": 26,
   "id": "427278c8-3010-4e10-9271-dc3b7723e0e7",
   "metadata": {
    "colab": {
     "base_uri": "https://localhost:8080/"
    },
    "executionInfo": {
     "elapsed": 3801,
     "status": "ok",
     "timestamp": 1683626858055,
     "user": {
      "displayName": "Klim Chernov",
      "userId": "01467194743770448933"
     },
     "user_tz": -180
    },
    "id": "427278c8-3010-4e10-9271-dc3b7723e0e7",
    "outputId": "ab337e28-a703-4647-b43a-256919a871a2"
   },
   "outputs": [
    {
     "name": "stdout",
     "output_type": "stream",
     "text": [
      "Drive already mounted at /content/drive; to attempt to forcibly remount, call drive.mount(\"/content/drive\", force_remount=True).\n"
     ]
    }
   ],
   "source": [
    "import numpy as np\n",
    "import pandas as pd\n",
    "\n",
    "import warnings\n",
    "warnings.filterwarnings('ignore')\n",
    "\n",
    "from google.colab import drive\n",
    "drive.mount('/content/drive')"
   ]
  },
  {
   "cell_type": "code",
   "execution_count": 27,
   "id": "x2mdYxCZ9oGg",
   "metadata": {
    "executionInfo": {
     "elapsed": 18,
     "status": "ok",
     "timestamp": 1683626862255,
     "user": {
      "displayName": "Klim Chernov",
      "userId": "01467194743770448933"
     },
     "user_tz": -180
    },
    "id": "x2mdYxCZ9oGg"
   },
   "outputs": [],
   "source": [
    "def get_users_predictions(UID, n, matrix):\n",
    "    recommended_items = pd.DataFrame(matrix.loc[UID]).dropna()\n",
    "    recommended_items.columns = ['predicted_rating']\n",
    "    recommended_items = recommended_items.sort_values('predicted_rating', ascending=False)    \n",
    "    recommended_items = recommended_items.head(n)\n",
    "    return recommended_items.index.tolist()\n",
    "\n",
    "def get_hybrid_predictions(UID, n, matrix, inject_data, inject_column, n_inject=3):\n",
    "    recommended_items = pd.DataFrame(matrix.loc[UID])\n",
    "    recommended_items.columns = ['predicted_rating']\n",
    "    injection = inject_data.loc[UID, inject_column][:n_inject]\n",
    "    recommended_items = recommended_items.drop(injection)\n",
    "    recommended_items = recommended_items.dropna()\n",
    "    recommended_items = recommended_items.sort_values('predicted_rating', ascending=False)    \n",
    "    recommended_items = recommended_items.head(n - len(injection))\n",
    "    injection.extend(recommended_items.index.tolist())\n",
    "    return injection"
   ]
  },
  {
   "cell_type": "code",
   "execution_count": 28,
   "id": "0BUdUgjX9wOX",
   "metadata": {
    "executionInfo": {
     "elapsed": 1415,
     "status": "ok",
     "timestamp": 1683626869058,
     "user": {
      "displayName": "Klim Chernov",
      "userId": "01467194743770448933"
     },
     "user_tz": -180
    },
    "id": "0BUdUgjX9wOX"
   },
   "outputs": [],
   "source": [
    "full = pd.read_csv('/content/drive/MyDrive/Bootcamp_Магнит/full_antitest.csv', index_col=0)"
   ]
  },
  {
   "cell_type": "code",
   "execution_count": 29,
   "id": "PtX4521xh9H2",
   "metadata": {
    "executionInfo": {
     "elapsed": 434,
     "status": "ok",
     "timestamp": 1683626871672,
     "user": {
      "displayName": "Klim Chernov",
      "userId": "01467194743770448933"
     },
     "user_tz": -180
    },
    "id": "PtX4521xh9H2"
   },
   "outputs": [],
   "source": [
    "nofact = pd.read_csv('/content/drive/MyDrive/Bootcamp_Магнит/test_joke_df_nofactrating.csv', index_col=0)"
   ]
  },
  {
   "cell_type": "code",
   "execution_count": 30,
   "id": "S0bEbwr1mNeg",
   "metadata": {
    "executionInfo": {
     "elapsed": 1062,
     "status": "ok",
     "timestamp": 1683626874695,
     "user": {
      "displayName": "Klim Chernov",
      "userId": "01467194743770448933"
     },
     "user_tz": -180
    },
    "id": "S0bEbwr1mNeg"
   },
   "outputs": [],
   "source": [
    "test = pd.merge(nofact, full, how='left', on=['UID', 'JID'])"
   ]
  },
  {
   "cell_type": "code",
   "execution_count": 31,
   "id": "l4IPEoMdshs_",
   "metadata": {
    "executionInfo": {
     "elapsed": 1500,
     "status": "ok",
     "timestamp": 1683626877818,
     "user": {
      "displayName": "Klim Chernov",
      "userId": "01467194743770448933"
     },
     "user_tz": -180
    },
    "id": "l4IPEoMdshs_"
   },
   "outputs": [],
   "source": [
    "SVD_matrix = test.pivot_table(index='UID', columns='JID', values='SVD_Prediction')"
   ]
  },
  {
   "cell_type": "code",
   "execution_count": 32,
   "id": "kxb2iRxysqd5",
   "metadata": {
    "executionInfo": {
     "elapsed": 2132,
     "status": "ok",
     "timestamp": 1683626882132,
     "user": {
      "displayName": "Klim Chernov",
      "userId": "01467194743770448933"
     },
     "user_tz": -180
    },
    "id": "kxb2iRxysqd5"
   },
   "outputs": [],
   "source": [
    "SVD_fullmatrix = full.pivot_table(index='UID', columns='JID', values='SVD_Prediction')"
   ]
  },
  {
   "cell_type": "code",
   "execution_count": 33,
   "id": "wDT8hTqBs-yK",
   "metadata": {
    "executionInfo": {
     "elapsed": 8,
     "status": "ok",
     "timestamp": 1683626884348,
     "user": {
      "displayName": "Klim Chernov",
      "userId": "01467194743770448933"
     },
     "user_tz": -180
    },
    "id": "wDT8hTqBs-yK"
   },
   "outputs": [],
   "source": [
    "testm = test.copy().groupby('UID', as_index=False).SVD_Prediction.agg({'Top 1': 'max'})\n",
    "testm = testm.set_index('UID')"
   ]
  },
  {
   "cell_type": "code",
   "execution_count": 34,
   "id": "sDBNn2mQuvKJ",
   "metadata": {
    "executionInfo": {
     "elapsed": 44577,
     "status": "ok",
     "timestamp": 1683626931149,
     "user": {
      "displayName": "Klim Chernov",
      "userId": "01467194743770448933"
     },
     "user_tz": -180
    },
    "id": "sDBNn2mQuvKJ"
   },
   "outputs": [],
   "source": [
    "SVD_recs = []\n",
    "for user in testm.index:\n",
    "  SVD_predictions = get_users_predictions(user, 10, SVD_matrix)\n",
    "  SVD_recs.append(SVD_predictions)     \n",
    "testm['SVD Top 10'] = SVD_recs"
   ]
  },
  {
   "cell_type": "code",
   "execution_count": 35,
   "id": "61kZ95aYo0IF",
   "metadata": {
    "executionInfo": {
     "elapsed": 56398,
     "status": "ok",
     "timestamp": 1683627144189,
     "user": {
      "displayName": "Klim Chernov",
      "userId": "01467194743770448933"
     },
     "user_tz": -180
    },
    "id": "61kZ95aYo0IF"
   },
   "outputs": [],
   "source": [
    "SVD_hybridrecs = []\n",
    "for user in testm.index:\n",
    "  SVD_hybridpredictions = get_hybrid_predictions(UID=user, n=10, matrix=SVD_fullmatrix, inject_data=testm, inject_column='SVD Top 10', n_inject=10)\n",
    "  SVD_hybridrecs.append(SVD_hybridpredictions)   \n",
    "testm['SVD HybridTop 10'] = SVD_hybridrecs\n",
    "\n",
    "maskl = testm['SVD HybridTop 10'].apply(lambda x: len(x) != 10)\n",
    "users = testm[maskl].index\n",
    "\n",
    "for i in users:\n",
    "  missing = 10 - len(testm.loc[i, 'SVD HybridTop 10'])\n",
    "  joke = 0\n",
    "  for m in range(missing):\n",
    "    joke = testm.loc[i, 'SVD HybridTop 10'][m]\n",
    "    mask = testm['SVD HybridTop 10'].apply(lambda x: x[0] == joke)\n",
    "    pair = testm[mask]['SVD HybridTop 10'].apply(lambda x: x[1])\n",
    "    pair = pd.DataFrame(pair)\n",
    "    pair = pair[pair['SVD HybridTop 10'].isin(testm.loc[i, 'SVD HybridTop 10']) == False]\n",
    "    testm.loc[i, 'SVD HybridTop 10'].append(pair['SVD HybridTop 10'].mode().loc[0])"
   ]
  },
  {
   "cell_type": "code",
   "execution_count": 36,
   "id": "42OuqZTczh8J",
   "metadata": {
    "executionInfo": {
     "elapsed": 621,
     "status": "ok",
     "timestamp": 1683627152631,
     "user": {
      "displayName": "Klim Chernov",
      "userId": "01467194743770448933"
     },
     "user_tz": -180
    },
    "id": "42OuqZTczh8J"
   },
   "outputs": [],
   "source": [
    "testm['result'] = testm['Top 1'].apply(lambda x: list([[x]])) + testm['SVD HybridTop 10'].apply(lambda x: list([x]))"
   ]
  },
  {
   "cell_type": "code",
   "execution_count": 37,
   "id": "oYK04f0y1Sek",
   "metadata": {
    "executionInfo": {
     "elapsed": 1887,
     "status": "ok",
     "timestamp": 1683627159345,
     "user": {
      "displayName": "Klim Chernov",
      "userId": "01467194743770448933"
     },
     "user_tz": -180
    },
    "id": "oYK04f0y1Sek"
   },
   "outputs": [],
   "source": [
    "testm['result'].to_frame().to_csv('/content/drive/MyDrive/Bootcamp_Магнит/jester_result.csv')"
   ]
  },
  {
   "cell_type": "code",
   "execution_count": null,
   "id": "Niul2wbN_6Oq",
   "metadata": {
    "id": "Niul2wbN_6Oq"
   },
   "outputs": [],
   "source": []
  }
 ],
 "metadata": {
  "colab": {
   "provenance": [
    {
     "file_id": "1149GGyr6Lu1WHvJ9tbl1bbSopzMNsaO7",
     "timestamp": 1683625177058
    },
    {
     "file_id": "1DL_Elbmn4sBTTdV5QpLlEqWrfp7FzFzm",
     "timestamp": 1683602139608
    },
    {
     "file_id": "1hqVWwM8FgAk72qbRVBgkJ4Ms7f3-zwVy",
     "timestamp": 1683575018888
    },
    {
     "file_id": "1qlAu0bjzHcHlJ6e_lgxRb0Nr9nJIP0Mj",
     "timestamp": 1683570381277
    },
    {
     "file_id": "1aNK6Wit3F0p9t9qbFuq1a_PPqi2329OV",
     "timestamp": 1683107523971
    },
    {
     "file_id": "11LYCSeXyptiPdFRpY9qg8UuT8JtmDRxE",
     "timestamp": 1682793094755
    },
    {
     "file_id": "1LAuO4jyQKb1oIN47-oFparwqB9Y9qYV5",
     "timestamp": 1682197863945
    }
   ]
  },
  "kernelspec": {
   "display_name": "Python 3 (ipykernel)",
   "language": "python",
   "name": "python3"
  },
  "language_info": {
   "codemirror_mode": {
    "name": "ipython",
    "version": 3
   },
   "file_extension": ".py",
   "mimetype": "text/x-python",
   "name": "python",
   "nbconvert_exporter": "python",
   "pygments_lexer": "ipython3",
   "version": "3.9.12"
  }
 },
 "nbformat": 4,
 "nbformat_minor": 5
}
